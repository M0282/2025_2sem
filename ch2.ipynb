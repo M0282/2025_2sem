{
 "cells": [
  {
   "cell_type": "code",
   "execution_count": 8,
   "id": "dcdc7bbe-046f-400b-a0b0-53cb7926bd96",
   "metadata": {},
   "outputs": [],
   "source": [
    "def AND(x1,x2):\n",
    "    w1,w2,theta = 0.5 , 0.5 , 0.7\n",
    "    tmp=w1*x1 + w2*x2\n",
    "    if tmp <= theta:\n",
    "        return 0\n",
    "    elif tmp > theta:\n",
    "        return 1"
   ]
  },
  {
   "cell_type": "code",
   "execution_count": 9,
   "id": "17ac2e11-b444-4dda-b339-8a14d9b65bc1",
   "metadata": {},
   "outputs": [
    {
     "data": {
      "text/plain": [
       "0"
      ]
     },
     "execution_count": 9,
     "metadata": {},
     "output_type": "execute_result"
    }
   ],
   "source": [
    "AND(0,0)\n",
    "\n",
    "\n"
   ]
  },
  {
   "cell_type": "code",
   "execution_count": 10,
   "id": "ab53d69d-1137-4194-aae7-1a9cfc3794a4",
   "metadata": {},
   "outputs": [
    {
     "data": {
      "text/plain": [
       "0"
      ]
     },
     "execution_count": 10,
     "metadata": {},
     "output_type": "execute_result"
    }
   ],
   "source": [
    "AND(1,0)"
   ]
  },
  {
   "cell_type": "code",
   "execution_count": 11,
   "id": "3d6e5c72-efba-411e-9547-94cfd1b7f986",
   "metadata": {},
   "outputs": [
    {
     "data": {
      "text/plain": [
       "0"
      ]
     },
     "execution_count": 11,
     "metadata": {},
     "output_type": "execute_result"
    }
   ],
   "source": [
    "AND(0,1)"
   ]
  },
  {
   "cell_type": "code",
   "execution_count": 12,
   "id": "73d18969-3992-4c66-bd10-ea0fb2dd87dc",
   "metadata": {},
   "outputs": [
    {
     "data": {
      "text/plain": [
       "1"
      ]
     },
     "execution_count": 12,
     "metadata": {},
     "output_type": "execute_result"
    }
   ],
   "source": [
    "AND(1,1)"
   ]
  },
  {
   "cell_type": "code",
   "execution_count": 13,
   "id": "f4b7f5ff-432b-4650-a882-b59491296713",
   "metadata": {},
   "outputs": [],
   "source": [
    "import numpy as np"
   ]
  },
  {
   "cell_type": "code",
   "execution_count": 13,
   "id": "c89d0d89-3529-4361-958f-8fadcbd52d42",
   "metadata": {},
   "outputs": [],
   "source": [
    "//y = 0 ( if b+w1*x1 + w2*x2<= 0 ) 과 같이 b라고 하는 편향 값을 주어 본다."
   ]
  },
  {
   "cell_type": "code",
   "execution_count": 14,
   "id": "54cbdd7f-993a-451c-9e7f-179782e9ccb1",
   "metadata": {},
   "outputs": [
    {
     "data": {
      "text/plain": [
       "array([0. , 0.5])"
      ]
     },
     "execution_count": 14,
     "metadata": {},
     "output_type": "execute_result"
    }
   ],
   "source": [
    "x=np.array([0,1])\n",
    "w=np.array([0.5,0.5])\n",
    "b= -0.7\n",
    "\n",
    "w*x"
   ]
  },
  {
   "cell_type": "code",
   "execution_count": 15,
   "id": "8d3c25ed-4236-439f-a558-fee4bb525602",
   "metadata": {},
   "outputs": [
    {
     "data": {
      "text/plain": [
       "0.5"
      ]
     },
     "execution_count": 15,
     "metadata": {},
     "output_type": "execute_result"
    }
   ],
   "source": [
    "np.sum(w*x)"
   ]
  },
  {
   "cell_type": "code",
   "execution_count": 16,
   "id": "433b0927-18ef-4526-97ae-06b54dc842b3",
   "metadata": {},
   "outputs": [
    {
     "data": {
      "text/plain": [
       "-0.19999999999999996"
      ]
     },
     "execution_count": 16,
     "metadata": {},
     "output_type": "execute_result"
    }
   ],
   "source": [
    "np.sum(w*x)+b # 대략 0.2 -- 부동소수점 수에 의한 연산 오차."
   ]
  },
  {
   "cell_type": "code",
   "execution_count": 19,
   "id": "14ec4068-1224-4086-b7c6-aac980b2f4a7",
   "metadata": {},
   "outputs": [],
   "source": [
    "def ANDB(x1,x2):\n",
    "    x=np.array([x1,x2])\n",
    "    w=np.array([-0.5,-0.5])\n",
    "    b= -0.7\n",
    "    tmp=np.sum(w*x)+b\n",
    "    if tmp<=0:\n",
    "        return 0\n",
    "    else:\n",
    "        return 1\n",
    "    "
   ]
  },
  {
   "cell_type": "code",
   "execution_count": 20,
   "id": "5987fc27-32ea-47d2-a267-a13d62bc9ffd",
   "metadata": {},
   "outputs": [],
   "source": [
    "def ORB(x1,x2):\n",
    "    x=np.array([x1,x2])\n",
    "    w=np.array([0.5,0.5])\n",
    "    b= -0.2\n",
    "    tmp=np.sum(w*x)+b\n",
    "    if tmp<=0:\n",
    "        return 0\n",
    "    else:\n",
    "        return 1\n",
    "    "
   ]
  },
  {
   "cell_type": "code",
   "execution_count": 31,
   "id": "5eb1b22d-8781-4409-ae39-b84393c32c18",
   "metadata": {},
   "outputs": [
    {
     "name": "stdout",
     "output_type": "stream",
     "text": [
      "Object `어떨까` not found.\n"
     ]
    }
   ],
   "source": [
    "퍼셉트론 형식으로는 어렵다... xor . 하지만 다층 퍼셉트론이라면 어떨까??"
   ]
  },
  {
   "cell_type": "code",
   "execution_count": 32,
   "id": "546f6961-1a7c-4c6b-9bf1-ec197f7d20bf",
   "metadata": {},
   "outputs": [
    {
     "ename": "SyntaxError",
     "evalue": "incomplete input (2341674704.py, line 1)",
     "output_type": "error",
     "traceback": [
      "\u001b[1;36m  Cell \u001b[1;32mIn[32], line 1\u001b[1;36m\u001b[0m\n\u001b[1;33m    def XOR(x1,x2):\u001b[0m\n\u001b[1;37m                   ^\u001b[0m\n\u001b[1;31mSyntaxError\u001b[0m\u001b[1;31m:\u001b[0m incomplete input\n"
     ]
    }
   ],
   "source": [
    "def XOR(x1,x2):\n",
    "    s1=ANDB(x1,x2)\n",
    "    s2=ORB(x1,x2)\n",
    "    y=ANDB"
   ]
  },
  {
   "cell_type": "code",
   "execution_count": null,
   "id": "989fcaaf-9271-4914-b536-8f8159db3f96",
   "metadata": {},
   "outputs": [],
   "source": []
  }
 ],
 "metadata": {
  "kernelspec": {
   "display_name": "Python 3 (ipykernel)",
   "language": "python",
   "name": "python3"
  },
  "language_info": {
   "codemirror_mode": {
    "name": "ipython",
    "version": 3
   },
   "file_extension": ".py",
   "mimetype": "text/x-python",
   "name": "python",
   "nbconvert_exporter": "python",
   "pygments_lexer": "ipython3",
   "version": "3.11.7"
  }
 },
 "nbformat": 4,
 "nbformat_minor": 5
}
